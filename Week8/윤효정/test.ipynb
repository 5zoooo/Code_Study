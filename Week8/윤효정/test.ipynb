{
 "cells": [
  {
   "cell_type": "markdown",
   "metadata": {},
   "source": [
    "### 1."
   ]
  },
  {
   "cell_type": "code",
   "execution_count": null,
   "metadata": {},
   "outputs": [
    {
     "name": "stdout",
     "output_type": "stream",
     "text": [
      "1 0 0 1 1 0 0 1 "
     ]
    }
   ],
   "source": [
    "n = int(input())\n",
    "card = sorted(map(int, input().split()))\n",
    "m = int(input())\n",
    "test_card = list(map(int,input().split()))\n",
    "\n",
    "\n",
    "def where(card, t) :\n",
    "    st = 0\n",
    "    end = n-1\n",
    "\n",
    "    while st <= end :\n",
    "        cen = (st + end) // 2\n",
    "        if card[cen] == t :\n",
    "            return True\n",
    "        elif card[cen] < t :\n",
    "            st = cen + 1\n",
    "        else :\n",
    "            end = cen - 1\n",
    "    \n",
    "    return False\n",
    "\n",
    "for t in test_card :\n",
    "    res = where(card,t)\n",
    "\n",
    "    if res == 0 :\n",
    "        print(0, end=' ')\n",
    "    else :\n",
    "        print(1, end=' ')\n"
   ]
  },
  {
   "cell_type": "code",
   "execution_count": 2,
   "metadata": {},
   "outputs": [
    {
     "name": "stdout",
     "output_type": "stream",
     "text": [
      "1 0 0 1 1 0 0 1 "
     ]
    }
   ],
   "source": [
    "import bisect\n",
    "\n",
    "n = int(input())\n",
    "card = sorted(map(int, input().split()))\n",
    "m = int(input())\n",
    "test_card = list(map(int, input().split()))\n",
    "\n",
    "for t in test_card:\n",
    "    idx = bisect.bisect_left(card, t)\n",
    "    if idx < n and card[idx] == t:\n",
    "        print(1, end=' ')\n",
    "    else:\n",
    "        print(0, end=' ')"
   ]
  },
  {
   "cell_type": "markdown",
   "metadata": {},
   "source": [
    "### 2."
   ]
  },
  {
   "cell_type": "code",
   "execution_count": 13,
   "metadata": {},
   "outputs": [
    {
     "name": "stdout",
     "output_type": "stream",
     "text": [
      "200\n"
     ]
    }
   ],
   "source": [
    "k, n = map(int, input().split())\n",
    "lines = [int(input()) for _ in range(k)]\n",
    "\n",
    "\n",
    "def where(lines, n):\n",
    "    st = 1\n",
    "    end = max(lines)\n",
    "    result = 0\n",
    "\n",
    "    while st <= end:\n",
    "        cen = (st + end) // 2\n",
    "        res = sum(line // cen for line in lines)\n",
    "\n",
    "        if res >= n:\n",
    "            result = cen\n",
    "            st = cen + 1\n",
    "        else:\n",
    "            end = cen - 1\n",
    "\n",
    "    return result\n",
    "\n",
    "\n",
    "res = where(lines, n)\n",
    "print(res)"
   ]
  },
  {
   "cell_type": "code",
   "execution_count": 8,
   "metadata": {},
   "outputs": [
    {
     "name": "stdout",
     "output_type": "stream",
     "text": [
      "4\n"
     ]
    }
   ],
   "source": [
    "def where(lines, n):\n",
    "    st = 1\n",
    "    end = max(lines)\n",
    "    result = 0\n",
    "\n",
    "    while st <= end:\n",
    "        cen = (st + end) // 2\n",
    "        res = sum(line // cen for line in lines)\n",
    "\n",
    "        if res >= n:\n",
    "            result = cen\n",
    "            st = cen + 1\n",
    "        else:\n",
    "            end = cen - 1\n",
    "\n",
    "    return result\n",
    "\n",
    "input_str = \"\"\"3 3\n",
    "3\n",
    "9\n",
    "9\"\"\"\n",
    "\n",
    "lines = input_str.strip().split('\\n')\n",
    "k, n = map(int, lines[0].split())\n",
    "lengths = list(map(int, lines[1:]))\n",
    "\n",
    "res = where(lengths, n)\n",
    "print(res)\n"
   ]
  },
  {
   "cell_type": "markdown",
   "metadata": {},
   "source": [
    "### 3."
   ]
  },
  {
   "cell_type": "code",
   "execution_count": null,
   "metadata": {},
   "outputs": [
    {
     "name": "stdout",
     "output_type": "stream",
     "text": [
      "20\n"
     ]
    }
   ],
   "source": [
    "n, m = map(int, input().split())\n",
    "trees = sorted(map(int, input().split()), reverse=True)\n",
    "\n",
    "\n",
    "def where(trees, m):\n",
    "    st = 0\n",
    "    end = max(trees)\n",
    "    result = 0\n",
    "\n",
    "    while st <= end:\n",
    "        cen = (st + end) // 2\n",
    "\n",
    "        get_tree = 0\n",
    "        for tree in trees:\n",
    "            if tree <= cen:\n",
    "                break\n",
    "            get_tree += tree - cen\n",
    "\n",
    "        if get_tree >= m:\n",
    "            result = cen\n",
    "            st = cen + 1\n",
    "        else:\n",
    "            end = cen - 1\n",
    "\n",
    "    return result\n",
    "\n",
    "\n",
    "final = where(trees, m)\n",
    "print(final)"
   ]
  },
  {
   "cell_type": "markdown",
   "metadata": {},
   "source": [
    "### 4."
   ]
  },
  {
   "cell_type": "code",
   "execution_count": 1,
   "metadata": {},
   "outputs": [
    {
     "name": "stdout",
     "output_type": "stream",
     "text": [
      "0\n"
     ]
    }
   ],
   "source": [
    "n = int(input())\n",
    "bud = sorted(map(int, input().split()))\n",
    "m = int(input())\n",
    "\n",
    "def where(bud, n, m):\n",
    "    if sum(bud) < m :\n",
    "        return max(bud)\n",
    "\n",
    "    st = 0\n",
    "    end = max(bud)\n",
    "    result = 0\n",
    "\n",
    "    while st <= end:\n",
    "        cen = (st + end) // 2\n",
    "\n",
    "        total = 0\n",
    "        for idx in range(n):\n",
    "            if bud[idx] >= cen:\n",
    "                total += len(bud[idx:]) * cen\n",
    "                break\n",
    "            total += bud[idx]\n",
    "\n",
    "        if total <= m:\n",
    "            result = cen\n",
    "            end = cen - 1\n",
    "        else:\n",
    "            st = cen + 1\n",
    "\n",
    "    return result\n",
    "\n",
    "\n",
    "final = where(bud,n, m)\n",
    "print(final)"
   ]
  },
  {
   "cell_type": "code",
   "execution_count": null,
   "metadata": {},
   "outputs": [],
   "source": []
  },
  {
   "cell_type": "code",
   "execution_count": null,
   "metadata": {},
   "outputs": [],
   "source": []
  }
 ],
 "metadata": {
  "kernelspec": {
   "display_name": "Python 3",
   "language": "python",
   "name": "python3"
  },
  "language_info": {
   "codemirror_mode": {
    "name": "ipython",
    "version": 3
   },
   "file_extension": ".py",
   "mimetype": "text/x-python",
   "name": "python",
   "nbconvert_exporter": "python",
   "pygments_lexer": "ipython3",
   "version": "3.10.11"
  }
 },
 "nbformat": 4,
 "nbformat_minor": 2
}
